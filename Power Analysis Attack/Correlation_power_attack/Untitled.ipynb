{
 "cells": [
  {
   "cell_type": "code",
   "execution_count": 17,
   "id": "935eeaa4-1cda-457c-8556-f0e8f01c1d6b",
   "metadata": {},
   "outputs": [],
   "source": [
    "import chipwhisperer as cw\n",
    "import numpy as np\n",
    "import chipwhisperer as cw\n",
    "import chipwhisperer.analyzer as cwa\n",
    "project_file = \"projects/Tutorial_HW_CW305.cwp\"\n",
    "project = cw.create_project(project_file, overwrite=True)"
   ]
  },
  {
   "cell_type": "code",
   "execution_count": 22,
   "id": "57174e76-fc07-498a-907c-eccaf8964e81",
   "metadata": {},
   "outputs": [],
   "source": [
    "textin = np.load(\"D:\\\\Side_Channel_Attack\\\\Traces\\\\AES_5000_fixed_key\\\\p.npy\")\n",
    "traces = np.load(\"D:\\\\Side_Channel_Attack\\\\Traces\\\\AES_5000_fixed_key\\\\traces.npy\")\n",
    "keys = np.load(\"D:\\\\Side_Channel_Attack\\\\Traces\\\\AES_5000_fixed_key\\\\k.npy\")"
   ]
  },
  {
   "cell_type": "code",
   "execution_count": null,
   "id": "0a17388d-942a-4c3f-adae-14042f2329ac",
   "metadata": {},
   "outputs": [],
   "source": []
  },
  {
   "cell_type": "code",
   "execution_count": 23,
   "id": "0306d7bd-ea8e-444b-a977-1f0a09503ee8",
   "metadata": {},
   "outputs": [
    {
     "ename": "NameError",
     "evalue": "name 'scope' is not defined",
     "output_type": "error",
     "traceback": [
      "\u001b[1;31m---------------------------------------------------------------------------\u001b[0m",
      "\u001b[1;31mNameError\u001b[0m                                 Traceback (most recent call last)",
      "Cell \u001b[1;32mIn[23], line 2\u001b[0m\n\u001b[0;32m      1\u001b[0m project\u001b[38;5;241m.\u001b[39msave()\n\u001b[1;32m----> 2\u001b[0m \u001b[43mscope\u001b[49m\u001b[38;5;241m.\u001b[39mdis()\n\u001b[0;32m      3\u001b[0m target\u001b[38;5;241m.\u001b[39mdis()\n",
      "\u001b[1;31mNameError\u001b[0m: name 'scope' is not defined"
     ]
    }
   ],
   "source": [
    "project.save()\n",
    "scope.dis()\n",
    "target.dis()"
   ]
  },
  {
   "cell_type": "code",
   "execution_count": 24,
   "id": "6c98bc10-31ff-4f29-bf20-9ea6057712ff",
   "metadata": {},
   "outputs": [
    {
     "name": "stderr",
     "output_type": "stream",
     "text": [
      "ERROR:root:Array can't be memory-mapped: Python objects in dtype.\n"
     ]
    },
    {
     "ename": "IndexError",
     "evalue": "Index outside of range (0, -1)",
     "output_type": "error",
     "traceback": [
      "\u001b[1;31m---------------------------------------------------------------------------\u001b[0m",
      "\u001b[1;31mIndexError\u001b[0m                                Traceback (most recent call last)",
      "Cell \u001b[1;32mIn[24], line 3\u001b[0m\n\u001b[0;32m      1\u001b[0m project_file \u001b[38;5;241m=\u001b[39m \u001b[38;5;124m\"\u001b[39m\u001b[38;5;124mprojects/Tutorial_HW_CW305\u001b[39m\u001b[38;5;124m\"\u001b[39m\n\u001b[0;32m      2\u001b[0m project \u001b[38;5;241m=\u001b[39m cw\u001b[38;5;241m.\u001b[39mopen_project(project_file)\n\u001b[1;32m----> 3\u001b[0m attack \u001b[38;5;241m=\u001b[39m \u001b[43mcwa\u001b[49m\u001b[38;5;241;43m.\u001b[39;49m\u001b[43mcpa\u001b[49m\u001b[43m(\u001b[49m\u001b[43mproject\u001b[49m\u001b[43m,\u001b[49m\u001b[43m \u001b[49m\u001b[43mcwa\u001b[49m\u001b[38;5;241;43m.\u001b[39;49m\u001b[43mleakage_models\u001b[49m\u001b[38;5;241;43m.\u001b[39;49m\u001b[43mlast_round_state_diff\u001b[49m\u001b[43m)\u001b[49m\n\u001b[0;32m      4\u001b[0m cb \u001b[38;5;241m=\u001b[39m cwa\u001b[38;5;241m.\u001b[39mget_jupyter_callback(attack)\n",
      "File \u001b[1;32m~\\AppData\\Local\\Programs\\Python\\Python311\\Lib\\site-packages\\chipwhisperer\\analyzer\\__init__.py:33\u001b[0m, in \u001b[0;36mcpa\u001b[1;34m(proj, leak_model, algorithm)\u001b[0m\n\u001b[0;32m     15\u001b[0m \u001b[38;5;250m\u001b[39m\u001b[38;5;124;03m\"\"\"Create a CPA object to attack traces in project using leak_model and algorithm.\u001b[39;00m\n\u001b[0;32m     16\u001b[0m \n\u001b[0;32m     17\u001b[0m \u001b[38;5;124;03mArgs:\u001b[39;00m\n\u001b[1;32m   (...)\u001b[0m\n\u001b[0;32m     30\u001b[0m \u001b[38;5;124;03m    Now uses new CPA attack object\u001b[39;00m\n\u001b[0;32m     31\u001b[0m \u001b[38;5;124;03m\"\"\"\u001b[39;00m\n\u001b[0;32m     32\u001b[0m \u001b[38;5;28;01mfrom\u001b[39;00m \u001b[38;5;21;01mchipwhisperer\u001b[39;00m\u001b[38;5;21;01m.\u001b[39;00m\u001b[38;5;21;01manalyzer\u001b[39;00m\u001b[38;5;21;01m.\u001b[39;00m\u001b[38;5;21;01mattacks\u001b[39;00m\u001b[38;5;21;01m.\u001b[39;00m\u001b[38;5;21;01mcpa_new\u001b[39;00m \u001b[38;5;28;01mimport\u001b[39;00m CPA\n\u001b[1;32m---> 33\u001b[0m attack \u001b[38;5;241m=\u001b[39m \u001b[43mCPA\u001b[49m\u001b[43m(\u001b[49m\u001b[43mproj\u001b[49m\u001b[43m,\u001b[49m\u001b[43m \u001b[49m\u001b[43mleak_model\u001b[49m\u001b[43m,\u001b[49m\u001b[43m \u001b[49m\u001b[43malgorithm\u001b[49m\u001b[43m)\u001b[49m\n\u001b[0;32m     35\u001b[0m \u001b[38;5;28;01mreturn\u001b[39;00m attack\n",
      "File \u001b[1;32m~\\AppData\\Local\\Programs\\Python\\Python311\\Lib\\site-packages\\chipwhisperer\\analyzer\\attacks\\cpa_new.py:64\u001b[0m, in \u001b[0;36mCPA.__init__\u001b[1;34m(self, proj, leak_model, algorithm)\u001b[0m\n\u001b[0;32m     62\u001b[0m \u001b[38;5;28mself\u001b[39m\u001b[38;5;241m.\u001b[39mset_analysis_algorithm(algorithm, leak_model)\n\u001b[0;32m     63\u001b[0m \u001b[38;5;28mself\u001b[39m\u001b[38;5;241m.\u001b[39mset_trace_source(proj\u001b[38;5;241m.\u001b[39mtrace_manager())\n\u001b[1;32m---> 64\u001b[0m \u001b[38;5;28;43mself\u001b[39;49m\u001b[38;5;241;43m.\u001b[39;49m\u001b[43mchange_project\u001b[49m\u001b[43m(\u001b[49m\u001b[43mproj\u001b[49m\u001b[43m)\u001b[49m\n\u001b[0;32m     65\u001b[0m \u001b[38;5;28mself\u001b[39m\u001b[38;5;241m.\u001b[39malgorithm \u001b[38;5;241m=\u001b[39m algorithm\n\u001b[0;32m     66\u001b[0m \u001b[38;5;28mself\u001b[39m\u001b[38;5;241m.\u001b[39mleak_model \u001b[38;5;241m=\u001b[39m leak_model\n",
      "File \u001b[1;32m~\\AppData\\Local\\Programs\\Python\\Python311\\Lib\\site-packages\\chipwhisperer\\analyzer\\attacks\\cpa_new.py:138\u001b[0m, in \u001b[0;36mCPA.change_project\u001b[1;34m(self, proj)\u001b[0m\n\u001b[0;32m    136\u001b[0m \u001b[38;5;28mself\u001b[39m\u001b[38;5;241m.\u001b[39mproject \u001b[38;5;241m=\u001b[39m proj\n\u001b[0;32m    137\u001b[0m \u001b[38;5;28mself\u001b[39m\u001b[38;5;241m.\u001b[39mtrace_range \u001b[38;5;241m=\u001b[39m [\u001b[38;5;241m0\u001b[39m, \u001b[38;5;28mlen\u001b[39m(proj\u001b[38;5;241m.\u001b[39mtraces)]\n\u001b[1;32m--> 138\u001b[0m \u001b[38;5;28mself\u001b[39m\u001b[38;5;241m.\u001b[39mpoint_range \u001b[38;5;241m=\u001b[39m [\u001b[38;5;241m0\u001b[39m, \u001b[38;5;28mlen\u001b[39m(\u001b[43mproj\u001b[49m\u001b[38;5;241;43m.\u001b[39;49m\u001b[43mwaves\u001b[49m\u001b[43m[\u001b[49m\u001b[38;5;241;43m0\u001b[39;49m\u001b[43m]\u001b[49m)]\n\u001b[0;32m    139\u001b[0m \u001b[38;5;28mself\u001b[39m\u001b[38;5;241m.\u001b[39msubkey_list \u001b[38;5;241m=\u001b[39m \u001b[38;5;28mrange\u001b[39m(\u001b[38;5;241m0\u001b[39m, \u001b[38;5;28mlen\u001b[39m(proj\u001b[38;5;241m.\u001b[39mkeys[\u001b[38;5;241m0\u001b[39m]))\n",
      "File \u001b[1;32m~\\AppData\\Local\\Programs\\Python\\Python311\\Lib\\site-packages\\chipwhisperer\\common\\api\\ProjectFormat.py:866\u001b[0m, in \u001b[0;36mIndividualIterable.__getitem__\u001b[1;34m(self, item)\u001b[0m\n\u001b[0;32m    863\u001b[0m         ind \u001b[38;5;241m=\u001b[39m \u001b[38;5;28mself\u001b[39m\u001b[38;5;241m.\u001b[39mmax \u001b[38;5;241m+\u001b[39m ind \u001b[38;5;241m+\u001b[39m \u001b[38;5;241m1\u001b[39m\n\u001b[0;32m    865\u001b[0m     \u001b[38;5;28;01mif\u001b[39;00m \u001b[38;5;129;01mnot\u001b[39;00m (\u001b[38;5;241m0\u001b[39m \u001b[38;5;241m<\u001b[39m\u001b[38;5;241m=\u001b[39m ind \u001b[38;5;241m<\u001b[39m\u001b[38;5;241m=\u001b[39m \u001b[38;5;28mself\u001b[39m\u001b[38;5;241m.\u001b[39mmax):\n\u001b[1;32m--> 866\u001b[0m         \u001b[38;5;28;01mraise\u001b[39;00m \u001b[38;5;167;01mIndexError\u001b[39;00m(\u001b[38;5;124m'\u001b[39m\u001b[38;5;124mIndex outside of range (\u001b[39m\u001b[38;5;132;01m{}\u001b[39;00m\u001b[38;5;124m, \u001b[39m\u001b[38;5;132;01m{}\u001b[39;00m\u001b[38;5;124m)\u001b[39m\u001b[38;5;124m'\u001b[39m\u001b[38;5;241m.\u001b[39mformat(\u001b[38;5;241m0\u001b[39m, \u001b[38;5;28mself\u001b[39m\u001b[38;5;241m.\u001b[39mmax))\n\u001b[0;32m    868\u001b[0m     \u001b[38;5;28;01mreturn\u001b[39;00m \u001b[38;5;28mself\u001b[39m\u001b[38;5;241m.\u001b[39mgetter(ind)\n\u001b[0;32m    870\u001b[0m \u001b[38;5;28;01melif\u001b[39;00m \u001b[38;5;28misinstance\u001b[39m(item, \u001b[38;5;28mslice\u001b[39m):\n",
      "\u001b[1;31mIndexError\u001b[0m: Index outside of range (0, -1)"
     ]
    }
   ],
   "source": [
    "project_file = \"projects/Tutorial_HW_CW305\"\n",
    "project = cw.open_project(project_file)\n",
    "attack = cwa.cpa(project, cwa.leakage_models.last_round_state_diff)\n",
    "cb = cwa.get_jupyter_callback(attack)"
   ]
  },
  {
   "cell_type": "code",
   "execution_count": 25,
   "id": "ed782b1b-c2fe-48f4-b868-a660bd7a3880",
   "metadata": {},
   "outputs": [
    {
     "name": "stderr",
     "output_type": "stream",
     "text": [
      "(ChipWhisperer Other ERROR|File ProjectFormat.py:683) Invalid type appended to traces. Try appending cw.Trace(trace_data, textin, textout, key)\n"
     ]
    },
    {
     "ename": "TypeError",
     "evalue": "Expected Trace object, got <class 'numpy.ndarray'>.",
     "output_type": "error",
     "traceback": [
      "\u001b[1;31m---------------------------------------------------------------------------\u001b[0m",
      "\u001b[1;31mTypeError\u001b[0m                                 Traceback (most recent call last)",
      "Cell \u001b[1;32mIn[25], line 1\u001b[0m\n\u001b[1;32m----> 1\u001b[0m \u001b[43mproject\u001b[49m\u001b[38;5;241;43m.\u001b[39;49m\u001b[43mtraces\u001b[49m\u001b[38;5;241;43m.\u001b[39;49m\u001b[43mappend\u001b[49m\u001b[43m(\u001b[49m\u001b[43mtraces\u001b[49m\u001b[43m)\u001b[49m\n",
      "File \u001b[1;32m~\\AppData\\Local\\Programs\\Python\\Python311\\Lib\\site-packages\\chipwhisperer\\common\\api\\ProjectFormat.py:684\u001b[0m, in \u001b[0;36mTraces.append\u001b[1;34m(self, trace, dtype)\u001b[0m\n\u001b[0;32m    682\u001b[0m \u001b[38;5;28;01mif\u001b[39;00m \u001b[38;5;129;01mnot\u001b[39;00m \u001b[38;5;28misinstance\u001b[39m(trace, Trace):\n\u001b[0;32m    683\u001b[0m     other_logger\u001b[38;5;241m.\u001b[39merror(\u001b[38;5;124m\"\u001b[39m\u001b[38;5;124mInvalid type appended to traces. Try appending cw.Trace(trace_data, textin, textout, key)\u001b[39m\u001b[38;5;124m\"\u001b[39m)\n\u001b[1;32m--> 684\u001b[0m     \u001b[38;5;28;01mraise\u001b[39;00m \u001b[38;5;167;01mTypeError\u001b[39;00m(\u001b[38;5;124m\"\u001b[39m\u001b[38;5;124mExpected Trace object, got \u001b[39m\u001b[38;5;132;01m{}\u001b[39;00m\u001b[38;5;124m.\u001b[39m\u001b[38;5;124m\"\u001b[39m\u001b[38;5;241m.\u001b[39mformat(\u001b[38;5;28mtype\u001b[39m(trace)))\n\u001b[0;32m    686\u001b[0m \u001b[38;5;28;01mif\u001b[39;00m \u001b[38;5;28mself\u001b[39m\u001b[38;5;241m.\u001b[39mcur_trace_num \u001b[38;5;241m>\u001b[39m \u001b[38;5;28mself\u001b[39m\u001b[38;5;241m.\u001b[39mseg_ind_max:\n\u001b[0;32m    687\u001b[0m     \u001b[38;5;28mself\u001b[39m\u001b[38;5;241m.\u001b[39mcur_seg \u001b[38;5;241m=\u001b[39m \u001b[38;5;28mself\u001b[39m\u001b[38;5;241m.\u001b[39mproject\u001b[38;5;241m.\u001b[39msegments\u001b[38;5;241m.\u001b[39mnew()\n",
      "\u001b[1;31mTypeError\u001b[0m: Expected Trace object, got <class 'numpy.ndarray'>."
     ]
    }
   ],
   "source": [
    "project.traces.append(traces)"
   ]
  },
  {
   "cell_type": "code",
   "execution_count": null,
   "id": "4e5dbf49-9827-4a80-8b37-ce285c3af1b2",
   "metadata": {},
   "outputs": [],
   "source": []
  }
 ],
 "metadata": {
  "kernelspec": {
   "display_name": "Python 3 (ipykernel)",
   "language": "python",
   "name": "python3"
  },
  "language_info": {
   "codemirror_mode": {
    "name": "ipython",
    "version": 3
   },
   "file_extension": ".py",
   "mimetype": "text/x-python",
   "name": "python",
   "nbconvert_exporter": "python",
   "pygments_lexer": "ipython3",
   "version": "3.11.5"
  }
 },
 "nbformat": 4,
 "nbformat_minor": 5
}
